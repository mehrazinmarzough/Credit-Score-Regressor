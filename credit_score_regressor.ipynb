{
  "nbformat": 4,
  "nbformat_minor": 0,
  "metadata": {
    "colab": {
      "provenance": [],
      "authorship_tag": "ABX9TyNXWK9CNdaEYZdoCjeW0XfO",
      "include_colab_link": true
    },
    "kernelspec": {
      "name": "python3",
      "display_name": "Python 3"
    },
    "language_info": {
      "name": "python"
    }
  },
  "cells": [
    {
      "cell_type": "markdown",
      "metadata": {
        "id": "view-in-github",
        "colab_type": "text"
      },
      "source": [
        "<a href=\"https://colab.research.google.com/github/mehrazinmarzough/Credit-Score-Regressor/blob/main/credit_score_regressor.ipynb\" target=\"_parent\"><img src=\"https://colab.research.google.com/assets/colab-badge.svg\" alt=\"Open In Colab\"/></a>"
      ]
    },
    {
      "cell_type": "code",
      "source": [
        "import pandas as pd\n",
        "\n",
        "df = pd.read_csv(\"CreditPrediction.csv\")\n",
        "df.drop_duplicates(inplace = True)\n",
        "df.drop(columns=['Unnamed: 19'], inplace = True)\n",
        "df['Marital_Status'] = df['Marital_Status'].fillna(\"Unknown\")\n",
        "df['Gender'] = df['Gender'].fillna(\"O\")\n",
        "print(df.info())"
      ],
      "metadata": {
        "id": "5aMuSoRf-kDu",
        "colab": {
          "base_uri": "https://localhost:8080/"
        },
        "outputId": "18715cd3-8a4d-489f-c86b-30b9678d06c3"
      },
      "execution_count": 44,
      "outputs": [
        {
          "output_type": "stream",
          "name": "stdout",
          "text": [
            "<class 'pandas.core.frame.DataFrame'>\n",
            "Index: 10132 entries, 0 to 10145\n",
            "Data columns (total 19 columns):\n",
            " #   Column                    Non-Null Count  Dtype  \n",
            "---  ------                    --------------  -----  \n",
            " 0   CLIENTNUM                 10132 non-null  int64  \n",
            " 1   Customer_Age              10132 non-null  float64\n",
            " 2   Gender                    10132 non-null  object \n",
            " 3   Dependent_count           10132 non-null  int64  \n",
            " 4   Education_Level           10132 non-null  object \n",
            " 5   Marital_Status            10132 non-null  object \n",
            " 6   Income_Category           10132 non-null  object \n",
            " 7   Card_Category             8217 non-null   object \n",
            " 8   Months_on_book            9911 non-null   float64\n",
            " 9   Total_Relationship_Count  10112 non-null  float64\n",
            " 10  Months_Inactive_12_mon    10132 non-null  int64  \n",
            " 11  Contacts_Count_12_mon     10132 non-null  int64  \n",
            " 12  Credit_Limit              10132 non-null  float64\n",
            " 13  Total_Revolving_Bal       10132 non-null  int64  \n",
            " 14  Total_Amt_Chng_Q4_Q1      10132 non-null  float64\n",
            " 15  Total_Trans_Amt           10132 non-null  int64  \n",
            " 16  Total_Trans_Ct            10132 non-null  int64  \n",
            " 17  Total_Ct_Chng_Q4_Q1       10132 non-null  float64\n",
            " 18  Avg_Utilization_Ratio     10132 non-null  float64\n",
            "dtypes: float64(7), int64(7), object(5)\n",
            "memory usage: 1.5+ MB\n",
            "None\n"
          ]
        }
      ]
    },
    {
      "cell_type": "markdown",
      "source": [
        "\n",
        "\n",
        "\n",
        "\n",
        "*   gender -> one hot\n",
        "*   educational level -> numerical\n",
        "*   marital status -> one hot\n",
        "*   income category -> numerical\n",
        "*   card category -> numerical\n",
        "\n",
        "\n",
        "\n"
      ],
      "metadata": {
        "id": "JLjrQM2BN_98"
      }
    },
    {
      "cell_type": "code",
      "source": [
        "df['Card_Category'] = df['Card_Category'].replace({'Blue': 1, 'Silver': 2, 'Gold': 3, 'Platinum': 4})\n",
        "print(df['Card_Category'].unique())\n"
      ],
      "metadata": {
        "colab": {
          "base_uri": "https://localhost:8080/"
        },
        "id": "npluzQ4WNjS6",
        "outputId": "6c185370-5f84-4c56-d410-4dd1dff77e98"
      },
      "execution_count": 56,
      "outputs": [
        {
          "output_type": "stream",
          "name": "stdout",
          "text": [
            "['1' nan '3' '2' '4']\n"
          ]
        }
      ]
    }
  ]
}